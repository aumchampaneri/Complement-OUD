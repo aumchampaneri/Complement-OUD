{
 "cells": [
  {
   "cell_type": "code",
   "execution_count": 1,
   "id": "7a6452c9",
   "metadata": {},
   "outputs": [],
   "source": [
    "import scanpy as sc\n",
    "import pandas as pd"
   ]
  },
  {
   "cell_type": "code",
   "execution_count": 3,
   "id": "44183cb5",
   "metadata": {},
   "outputs": [],
   "source": [
    "adata = sc.read_h5ad(\"/Users/aumchampaneri/Complement-OUD/Multi-Omics Study/data/raw/snrna/GSE225158_BU_OUD_Striatum_refined_all_SeuratObj_N22.h5ad\")"
   ]
  },
  {
   "cell_type": "code",
   "execution_count": 14,
   "id": "8bd3d83c",
   "metadata": {},
   "outputs": [
    {
     "data": {
      "application/vnd.microsoft.datawrangler.viewer.v0+json": {
       "columns": [
        {
         "name": "index",
         "rawType": "int64",
         "type": "integer"
        },
        {
         "name": "obs_name",
         "rawType": "object",
         "type": "string"
        },
        {
         "name": "type",
         "rawType": "object",
         "type": "string"
        }
       ],
       "ref": "935ed5bd-f3b9-42e1-8a90-2456df889799",
       "rows": [
        [
         "0",
         "nCount_RNA",
         "float64"
        ],
        [
         "1",
         "nFeature_RNA",
         "int32"
        ],
        [
         "2",
         "nCount_SCT",
         "float64"
        ],
        [
         "3",
         "nFeature_SCT",
         "int32"
        ],
        [
         "4",
         "orig.ident",
         "category"
        ],
        [
         "5",
         "scds.hybrid_score",
         "float64"
        ],
        [
         "6",
         "scds.keep",
         "category"
        ],
        [
         "7",
         "percent.mt",
         "float64"
        ],
        [
         "8",
         "miQC.probability",
         "float64"
        ],
        [
         "9",
         "miQC.keep",
         "category"
        ],
        [
         "10",
         "dropletQC.nucFrac",
         "float64"
        ],
        [
         "11",
         "dropletQC.keep",
         "category"
        ],
        [
         "12",
         "integrated_snn_res.1",
         "int32"
        ],
        [
         "13",
         "seurat_clusters",
         "int32"
        ],
        [
         "14",
         "X",
         "float64"
        ],
        [
         "15",
         "ID",
         "category"
        ],
        [
         "16",
         "Region",
         "category"
        ],
        [
         "17",
         "Pair",
         "float64"
        ],
        [
         "18",
         "Case",
         "float64"
        ],
        [
         "19",
         "Sex",
         "category"
        ],
        [
         "20",
         "Race",
         "category"
        ],
        [
         "21",
         "Age",
         "float64"
        ],
        [
         "22",
         "BMI",
         "float64"
        ],
        [
         "23",
         "PMI",
         "float64"
        ],
        [
         "24",
         "pH",
         "float64"
        ],
        [
         "25",
         "RIN",
         "float64"
        ],
        [
         "26",
         "Tissue.Storage.Time.mo.b",
         "float64"
        ],
        [
         "27",
         "Dx_OUD",
         "category"
        ],
        [
         "28",
         "Dx_Substances",
         "category"
        ],
        [
         "29",
         "Dx_Comorbid",
         "category"
        ],
        [
         "30",
         "Dur.OUD",
         "float64"
        ],
        [
         "31",
         "DSM.IV.SUD",
         "category"
        ],
        [
         "32",
         "DSM.IV.Psych",
         "category"
        ],
        [
         "33",
         "Blood.Toxicology",
         "category"
        ],
        [
         "34",
         "Infxn.Dx",
         "category"
        ],
        [
         "35",
         "Medications.ATODc",
         "category"
        ],
        [
         "36",
         "Tobacco.ATOD",
         "category"
        ],
        [
         "37",
         "Manner.of.Death",
         "category"
        ],
        [
         "38",
         "Cause.of.Death",
         "category"
        ],
        [
         "39",
         "Index.27",
         "category"
        ],
        [
         "40",
         "Index.28",
         "category"
        ],
        [
         "41",
         "i7.index.seq",
         "category"
        ],
        [
         "42",
         "i5.index.seq",
         "category"
        ],
        [
         "43",
         "DSM.IV.OUD",
         "int32"
        ],
        [
         "44",
         "DSM.IV.AUD",
         "int32"
        ],
        [
         "45",
         "DSM.IV.CUD",
         "int32"
        ],
        [
         "46",
         "integrated_snn_res.0.5",
         "int32"
        ],
        [
         "47",
         "celltype1",
         "category"
        ],
        [
         "48",
         "celltype2",
         "category"
        ],
        [
         "49",
         "integrated_snn_res.2",
         "int32"
        ]
       ],
       "shape": {
        "columns": 2,
        "rows": 55
       }
      },
      "text/html": [
       "<div>\n",
       "<style scoped>\n",
       "    .dataframe tbody tr th:only-of-type {\n",
       "        vertical-align: middle;\n",
       "    }\n",
       "\n",
       "    .dataframe tbody tr th {\n",
       "        vertical-align: top;\n",
       "    }\n",
       "\n",
       "    .dataframe thead th {\n",
       "        text-align: right;\n",
       "    }\n",
       "</style>\n",
       "<table border=\"1\" class=\"dataframe\">\n",
       "  <thead>\n",
       "    <tr style=\"text-align: right;\">\n",
       "      <th></th>\n",
       "      <th>obs_name</th>\n",
       "      <th>type</th>\n",
       "    </tr>\n",
       "  </thead>\n",
       "  <tbody>\n",
       "    <tr>\n",
       "      <th>0</th>\n",
       "      <td>nCount_RNA</td>\n",
       "      <td>float64</td>\n",
       "    </tr>\n",
       "    <tr>\n",
       "      <th>1</th>\n",
       "      <td>nFeature_RNA</td>\n",
       "      <td>int32</td>\n",
       "    </tr>\n",
       "    <tr>\n",
       "      <th>2</th>\n",
       "      <td>nCount_SCT</td>\n",
       "      <td>float64</td>\n",
       "    </tr>\n",
       "    <tr>\n",
       "      <th>3</th>\n",
       "      <td>nFeature_SCT</td>\n",
       "      <td>int32</td>\n",
       "    </tr>\n",
       "    <tr>\n",
       "      <th>4</th>\n",
       "      <td>orig.ident</td>\n",
       "      <td>category</td>\n",
       "    </tr>\n",
       "    <tr>\n",
       "      <th>5</th>\n",
       "      <td>scds.hybrid_score</td>\n",
       "      <td>float64</td>\n",
       "    </tr>\n",
       "    <tr>\n",
       "      <th>6</th>\n",
       "      <td>scds.keep</td>\n",
       "      <td>category</td>\n",
       "    </tr>\n",
       "    <tr>\n",
       "      <th>7</th>\n",
       "      <td>percent.mt</td>\n",
       "      <td>float64</td>\n",
       "    </tr>\n",
       "    <tr>\n",
       "      <th>8</th>\n",
       "      <td>miQC.probability</td>\n",
       "      <td>float64</td>\n",
       "    </tr>\n",
       "    <tr>\n",
       "      <th>9</th>\n",
       "      <td>miQC.keep</td>\n",
       "      <td>category</td>\n",
       "    </tr>\n",
       "    <tr>\n",
       "      <th>10</th>\n",
       "      <td>dropletQC.nucFrac</td>\n",
       "      <td>float64</td>\n",
       "    </tr>\n",
       "    <tr>\n",
       "      <th>11</th>\n",
       "      <td>dropletQC.keep</td>\n",
       "      <td>category</td>\n",
       "    </tr>\n",
       "    <tr>\n",
       "      <th>12</th>\n",
       "      <td>integrated_snn_res.1</td>\n",
       "      <td>int32</td>\n",
       "    </tr>\n",
       "    <tr>\n",
       "      <th>13</th>\n",
       "      <td>seurat_clusters</td>\n",
       "      <td>int32</td>\n",
       "    </tr>\n",
       "    <tr>\n",
       "      <th>14</th>\n",
       "      <td>X</td>\n",
       "      <td>float64</td>\n",
       "    </tr>\n",
       "    <tr>\n",
       "      <th>15</th>\n",
       "      <td>ID</td>\n",
       "      <td>category</td>\n",
       "    </tr>\n",
       "    <tr>\n",
       "      <th>16</th>\n",
       "      <td>Region</td>\n",
       "      <td>category</td>\n",
       "    </tr>\n",
       "    <tr>\n",
       "      <th>17</th>\n",
       "      <td>Pair</td>\n",
       "      <td>float64</td>\n",
       "    </tr>\n",
       "    <tr>\n",
       "      <th>18</th>\n",
       "      <td>Case</td>\n",
       "      <td>float64</td>\n",
       "    </tr>\n",
       "    <tr>\n",
       "      <th>19</th>\n",
       "      <td>Sex</td>\n",
       "      <td>category</td>\n",
       "    </tr>\n",
       "    <tr>\n",
       "      <th>20</th>\n",
       "      <td>Race</td>\n",
       "      <td>category</td>\n",
       "    </tr>\n",
       "    <tr>\n",
       "      <th>21</th>\n",
       "      <td>Age</td>\n",
       "      <td>float64</td>\n",
       "    </tr>\n",
       "    <tr>\n",
       "      <th>22</th>\n",
       "      <td>BMI</td>\n",
       "      <td>float64</td>\n",
       "    </tr>\n",
       "    <tr>\n",
       "      <th>23</th>\n",
       "      <td>PMI</td>\n",
       "      <td>float64</td>\n",
       "    </tr>\n",
       "    <tr>\n",
       "      <th>24</th>\n",
       "      <td>pH</td>\n",
       "      <td>float64</td>\n",
       "    </tr>\n",
       "    <tr>\n",
       "      <th>25</th>\n",
       "      <td>RIN</td>\n",
       "      <td>float64</td>\n",
       "    </tr>\n",
       "    <tr>\n",
       "      <th>26</th>\n",
       "      <td>Tissue.Storage.Time.mo.b</td>\n",
       "      <td>float64</td>\n",
       "    </tr>\n",
       "    <tr>\n",
       "      <th>27</th>\n",
       "      <td>Dx_OUD</td>\n",
       "      <td>category</td>\n",
       "    </tr>\n",
       "    <tr>\n",
       "      <th>28</th>\n",
       "      <td>Dx_Substances</td>\n",
       "      <td>category</td>\n",
       "    </tr>\n",
       "    <tr>\n",
       "      <th>29</th>\n",
       "      <td>Dx_Comorbid</td>\n",
       "      <td>category</td>\n",
       "    </tr>\n",
       "    <tr>\n",
       "      <th>30</th>\n",
       "      <td>Dur.OUD</td>\n",
       "      <td>float64</td>\n",
       "    </tr>\n",
       "    <tr>\n",
       "      <th>31</th>\n",
       "      <td>DSM.IV.SUD</td>\n",
       "      <td>category</td>\n",
       "    </tr>\n",
       "    <tr>\n",
       "      <th>32</th>\n",
       "      <td>DSM.IV.Psych</td>\n",
       "      <td>category</td>\n",
       "    </tr>\n",
       "    <tr>\n",
       "      <th>33</th>\n",
       "      <td>Blood.Toxicology</td>\n",
       "      <td>category</td>\n",
       "    </tr>\n",
       "    <tr>\n",
       "      <th>34</th>\n",
       "      <td>Infxn.Dx</td>\n",
       "      <td>category</td>\n",
       "    </tr>\n",
       "    <tr>\n",
       "      <th>35</th>\n",
       "      <td>Medications.ATODc</td>\n",
       "      <td>category</td>\n",
       "    </tr>\n",
       "    <tr>\n",
       "      <th>36</th>\n",
       "      <td>Tobacco.ATOD</td>\n",
       "      <td>category</td>\n",
       "    </tr>\n",
       "    <tr>\n",
       "      <th>37</th>\n",
       "      <td>Manner.of.Death</td>\n",
       "      <td>category</td>\n",
       "    </tr>\n",
       "    <tr>\n",
       "      <th>38</th>\n",
       "      <td>Cause.of.Death</td>\n",
       "      <td>category</td>\n",
       "    </tr>\n",
       "    <tr>\n",
       "      <th>39</th>\n",
       "      <td>Index.27</td>\n",
       "      <td>category</td>\n",
       "    </tr>\n",
       "    <tr>\n",
       "      <th>40</th>\n",
       "      <td>Index.28</td>\n",
       "      <td>category</td>\n",
       "    </tr>\n",
       "    <tr>\n",
       "      <th>41</th>\n",
       "      <td>i7.index.seq</td>\n",
       "      <td>category</td>\n",
       "    </tr>\n",
       "    <tr>\n",
       "      <th>42</th>\n",
       "      <td>i5.index.seq</td>\n",
       "      <td>category</td>\n",
       "    </tr>\n",
       "    <tr>\n",
       "      <th>43</th>\n",
       "      <td>DSM.IV.OUD</td>\n",
       "      <td>int32</td>\n",
       "    </tr>\n",
       "    <tr>\n",
       "      <th>44</th>\n",
       "      <td>DSM.IV.AUD</td>\n",
       "      <td>int32</td>\n",
       "    </tr>\n",
       "    <tr>\n",
       "      <th>45</th>\n",
       "      <td>DSM.IV.CUD</td>\n",
       "      <td>int32</td>\n",
       "    </tr>\n",
       "    <tr>\n",
       "      <th>46</th>\n",
       "      <td>integrated_snn_res.0.5</td>\n",
       "      <td>int32</td>\n",
       "    </tr>\n",
       "    <tr>\n",
       "      <th>47</th>\n",
       "      <td>celltype1</td>\n",
       "      <td>category</td>\n",
       "    </tr>\n",
       "    <tr>\n",
       "      <th>48</th>\n",
       "      <td>celltype2</td>\n",
       "      <td>category</td>\n",
       "    </tr>\n",
       "    <tr>\n",
       "      <th>49</th>\n",
       "      <td>integrated_snn_res.2</td>\n",
       "      <td>int32</td>\n",
       "    </tr>\n",
       "    <tr>\n",
       "      <th>50</th>\n",
       "      <td>celltype3</td>\n",
       "      <td>category</td>\n",
       "    </tr>\n",
       "    <tr>\n",
       "      <th>51</th>\n",
       "      <td>integrated_snn_res.0.1</td>\n",
       "      <td>int32</td>\n",
       "    </tr>\n",
       "    <tr>\n",
       "      <th>52</th>\n",
       "      <td>level1</td>\n",
       "      <td>category</td>\n",
       "    </tr>\n",
       "    <tr>\n",
       "      <th>53</th>\n",
       "      <td>level2</td>\n",
       "      <td>category</td>\n",
       "    </tr>\n",
       "    <tr>\n",
       "      <th>54</th>\n",
       "      <td>n_genes</td>\n",
       "      <td>int64</td>\n",
       "    </tr>\n",
       "  </tbody>\n",
       "</table>\n",
       "</div>"
      ],
      "text/plain": [
       "                    obs_name      type\n",
       "0                 nCount_RNA   float64\n",
       "1               nFeature_RNA     int32\n",
       "2                 nCount_SCT   float64\n",
       "3               nFeature_SCT     int32\n",
       "4                 orig.ident  category\n",
       "5          scds.hybrid_score   float64\n",
       "6                  scds.keep  category\n",
       "7                 percent.mt   float64\n",
       "8           miQC.probability   float64\n",
       "9                  miQC.keep  category\n",
       "10         dropletQC.nucFrac   float64\n",
       "11            dropletQC.keep  category\n",
       "12      integrated_snn_res.1     int32\n",
       "13           seurat_clusters     int32\n",
       "14                         X   float64\n",
       "15                        ID  category\n",
       "16                    Region  category\n",
       "17                      Pair   float64\n",
       "18                      Case   float64\n",
       "19                       Sex  category\n",
       "20                      Race  category\n",
       "21                       Age   float64\n",
       "22                       BMI   float64\n",
       "23                       PMI   float64\n",
       "24                        pH   float64\n",
       "25                       RIN   float64\n",
       "26  Tissue.Storage.Time.mo.b   float64\n",
       "27                    Dx_OUD  category\n",
       "28             Dx_Substances  category\n",
       "29               Dx_Comorbid  category\n",
       "30                   Dur.OUD   float64\n",
       "31                DSM.IV.SUD  category\n",
       "32              DSM.IV.Psych  category\n",
       "33          Blood.Toxicology  category\n",
       "34                  Infxn.Dx  category\n",
       "35         Medications.ATODc  category\n",
       "36              Tobacco.ATOD  category\n",
       "37           Manner.of.Death  category\n",
       "38            Cause.of.Death  category\n",
       "39                  Index.27  category\n",
       "40                  Index.28  category\n",
       "41              i7.index.seq  category\n",
       "42              i5.index.seq  category\n",
       "43                DSM.IV.OUD     int32\n",
       "44                DSM.IV.AUD     int32\n",
       "45                DSM.IV.CUD     int32\n",
       "46    integrated_snn_res.0.5     int32\n",
       "47                 celltype1  category\n",
       "48                 celltype2  category\n",
       "49      integrated_snn_res.2     int32\n",
       "50                 celltype3  category\n",
       "51    integrated_snn_res.0.1     int32\n",
       "52                    level1  category\n",
       "53                    level2  category\n",
       "54                   n_genes     int64"
      ]
     },
     "execution_count": 14,
     "metadata": {},
     "output_type": "execute_result"
    }
   ],
   "source": [
    "# List all obs in adata and print\n",
    "obs_list = adata.obs.columns.tolist()\n",
    "# Create a DataFrame with obs names and their type\n",
    "obs_df = pd.DataFrame({\n",
    "    'obs_name': obs_list,\n",
    "    'type': [adata.obs[name].dtype.name for name in obs_list]\n",
    "})\n",
    "obs_df"
   ]
  },
  {
   "cell_type": "code",
   "execution_count": 5,
   "id": "daff89fc",
   "metadata": {},
   "outputs": [
    {
     "name": "stdout",
     "output_type": "stream",
     "text": [
      "Available layers: KeysView(Layers with keys: )\n",
      "Raw data in .raw: True\n",
      "Extracted raw data shape: (98848, 31611)\n",
      "Data type: float64\n",
      "Min value: 0.0\n",
      "Max value: 12005.0\n",
      "Sum of first cell: 6472.0\n"
     ]
    }
   ],
   "source": [
    "# Extract raw count data\n",
    "# Check what layers are available\n",
    "print(\"Available layers:\", adata.layers.keys())\n",
    "print(\"Raw data in .raw:\", adata.raw is not None)\n",
    "\n",
    "# Option 1: If raw counts are stored in .raw\n",
    "if adata.raw is not None:\n",
    "    raw_adata = adata.raw.to_adata()\n",
    "    print(\"Extracted raw data shape:\", raw_adata.shape)\n",
    "else:\n",
    "    # Option 2: If raw counts are in a layer (common layer names)\n",
    "    if 'counts' in adata.layers:\n",
    "        raw_adata = sc.AnnData(X=adata.layers['counts'], \n",
    "                               obs=adata.obs.copy(), \n",
    "                               var=adata.var.copy())\n",
    "    elif 'raw' in adata.layers:\n",
    "        raw_adata = sc.AnnData(X=adata.layers['raw'], \n",
    "                               obs=adata.obs.copy(), \n",
    "                               var=adata.var.copy())\n",
    "    else:\n",
    "        # Option 3: Use current X if it's already raw counts\n",
    "        raw_adata = adata.copy()\n",
    "        print(\"Using current X matrix as raw counts\")\n",
    "\n",
    "# Check if the data looks like raw counts (should be integers)\n",
    "print(\"Data type:\", raw_adata.X.dtype)\n",
    "print(\"Min value:\", raw_adata.X.min())\n",
    "print(\"Max value:\", raw_adata.X.max())\n",
    "print(\"Sum of first cell:\", raw_adata.X[0].sum())"
   ]
  },
  {
   "cell_type": "code",
   "execution_count": 6,
   "id": "2e4ec9a5",
   "metadata": {},
   "outputs": [
    {
     "name": "stdout",
     "output_type": "stream",
     "text": [
      "=== STEP 1: PREPROCESSING & QC ===\n",
      "Starting with 98848 cells and 31611 genes\n",
      "\n",
      "--- Calculating QC Metrics ---\n"
     ]
    },
    {
     "ename": "KeyError",
     "evalue": "'n_counts_mt'",
     "output_type": "error",
     "traceback": [
      "\u001b[31m---------------------------------------------------------------------------\u001b[39m",
      "\u001b[31mKeyError\u001b[39m                                  Traceback (most recent call last)",
      "\u001b[36mFile \u001b[39m\u001b[32m~/.pyenv/versions/miniconda3-latest/lib/python3.13/site-packages/pandas/core/indexes/base.py:3805\u001b[39m, in \u001b[36mIndex.get_loc\u001b[39m\u001b[34m(self, key)\u001b[39m\n\u001b[32m   3804\u001b[39m \u001b[38;5;28;01mtry\u001b[39;00m:\n\u001b[32m-> \u001b[39m\u001b[32m3805\u001b[39m     \u001b[38;5;28;01mreturn\u001b[39;00m \u001b[38;5;28;43mself\u001b[39;49m\u001b[43m.\u001b[49m\u001b[43m_engine\u001b[49m\u001b[43m.\u001b[49m\u001b[43mget_loc\u001b[49m\u001b[43m(\u001b[49m\u001b[43mcasted_key\u001b[49m\u001b[43m)\u001b[49m\n\u001b[32m   3806\u001b[39m \u001b[38;5;28;01mexcept\u001b[39;00m \u001b[38;5;167;01mKeyError\u001b[39;00m \u001b[38;5;28;01mas\u001b[39;00m err:\n",
      "\u001b[36mFile \u001b[39m\u001b[32mindex.pyx:167\u001b[39m, in \u001b[36mpandas._libs.index.IndexEngine.get_loc\u001b[39m\u001b[34m()\u001b[39m\n",
      "\u001b[36mFile \u001b[39m\u001b[32mindex.pyx:196\u001b[39m, in \u001b[36mpandas._libs.index.IndexEngine.get_loc\u001b[39m\u001b[34m()\u001b[39m\n",
      "\u001b[36mFile \u001b[39m\u001b[32mpandas/_libs/hashtable_class_helper.pxi:7081\u001b[39m, in \u001b[36mpandas._libs.hashtable.PyObjectHashTable.get_item\u001b[39m\u001b[34m()\u001b[39m\n",
      "\u001b[36mFile \u001b[39m\u001b[32mpandas/_libs/hashtable_class_helper.pxi:7089\u001b[39m, in \u001b[36mpandas._libs.hashtable.PyObjectHashTable.get_item\u001b[39m\u001b[34m()\u001b[39m\n",
      "\u001b[31mKeyError\u001b[39m: 'n_counts_mt'",
      "\nThe above exception was the direct cause of the following exception:\n",
      "\u001b[31mKeyError\u001b[39m                                  Traceback (most recent call last)",
      "\u001b[36mCell\u001b[39m\u001b[36m \u001b[39m\u001b[32mIn[6]\u001b[39m\u001b[32m, line 24\u001b[39m\n\u001b[32m     21\u001b[39m sc.pp.calculate_qc_metrics(raw_adata, percent_top=\u001b[38;5;28;01mNone\u001b[39;00m, log1p=\u001b[38;5;28;01mFalse\u001b[39;00m, inplace=\u001b[38;5;28;01mTrue\u001b[39;00m)\n\u001b[32m     23\u001b[39m \u001b[38;5;66;03m# Add percentage metrics\u001b[39;00m\n\u001b[32m---> \u001b[39m\u001b[32m24\u001b[39m raw_adata.obs[\u001b[33m'\u001b[39m\u001b[33mpct_counts_mt\u001b[39m\u001b[33m'\u001b[39m] = (\u001b[43mraw_adata\u001b[49m\u001b[43m.\u001b[49m\u001b[43mobs\u001b[49m\u001b[43m[\u001b[49m\u001b[33;43m'\u001b[39;49m\u001b[33;43mn_counts_mt\u001b[39;49m\u001b[33;43m'\u001b[39;49m\u001b[43m]\u001b[49m / raw_adata.obs[\u001b[33m'\u001b[39m\u001b[33mtotal_counts\u001b[39m\u001b[33m'\u001b[39m]) * \u001b[32m100\u001b[39m\n\u001b[32m     25\u001b[39m raw_adata.obs[\u001b[33m'\u001b[39m\u001b[33mpct_counts_ribo\u001b[39m\u001b[33m'\u001b[39m] = (raw_adata.obs[\u001b[33m'\u001b[39m\u001b[33mn_counts_ribo\u001b[39m\u001b[33m'\u001b[39m] / raw_adata.obs[\u001b[33m'\u001b[39m\u001b[33mtotal_counts\u001b[39m\u001b[33m'\u001b[39m]) * \u001b[32m100\u001b[39m\n\u001b[32m     27\u001b[39m \u001b[38;5;66;03m# Print QC summary\u001b[39;00m\n",
      "\u001b[36mFile \u001b[39m\u001b[32m~/.pyenv/versions/miniconda3-latest/lib/python3.13/site-packages/pandas/core/frame.py:4102\u001b[39m, in \u001b[36mDataFrame.__getitem__\u001b[39m\u001b[34m(self, key)\u001b[39m\n\u001b[32m   4100\u001b[39m \u001b[38;5;28;01mif\u001b[39;00m \u001b[38;5;28mself\u001b[39m.columns.nlevels > \u001b[32m1\u001b[39m:\n\u001b[32m   4101\u001b[39m     \u001b[38;5;28;01mreturn\u001b[39;00m \u001b[38;5;28mself\u001b[39m._getitem_multilevel(key)\n\u001b[32m-> \u001b[39m\u001b[32m4102\u001b[39m indexer = \u001b[38;5;28;43mself\u001b[39;49m\u001b[43m.\u001b[49m\u001b[43mcolumns\u001b[49m\u001b[43m.\u001b[49m\u001b[43mget_loc\u001b[49m\u001b[43m(\u001b[49m\u001b[43mkey\u001b[49m\u001b[43m)\u001b[49m\n\u001b[32m   4103\u001b[39m \u001b[38;5;28;01mif\u001b[39;00m is_integer(indexer):\n\u001b[32m   4104\u001b[39m     indexer = [indexer]\n",
      "\u001b[36mFile \u001b[39m\u001b[32m~/.pyenv/versions/miniconda3-latest/lib/python3.13/site-packages/pandas/core/indexes/base.py:3812\u001b[39m, in \u001b[36mIndex.get_loc\u001b[39m\u001b[34m(self, key)\u001b[39m\n\u001b[32m   3807\u001b[39m     \u001b[38;5;28;01mif\u001b[39;00m \u001b[38;5;28misinstance\u001b[39m(casted_key, \u001b[38;5;28mslice\u001b[39m) \u001b[38;5;129;01mor\u001b[39;00m (\n\u001b[32m   3808\u001b[39m         \u001b[38;5;28misinstance\u001b[39m(casted_key, abc.Iterable)\n\u001b[32m   3809\u001b[39m         \u001b[38;5;129;01mand\u001b[39;00m \u001b[38;5;28many\u001b[39m(\u001b[38;5;28misinstance\u001b[39m(x, \u001b[38;5;28mslice\u001b[39m) \u001b[38;5;28;01mfor\u001b[39;00m x \u001b[38;5;129;01min\u001b[39;00m casted_key)\n\u001b[32m   3810\u001b[39m     ):\n\u001b[32m   3811\u001b[39m         \u001b[38;5;28;01mraise\u001b[39;00m InvalidIndexError(key)\n\u001b[32m-> \u001b[39m\u001b[32m3812\u001b[39m     \u001b[38;5;28;01mraise\u001b[39;00m \u001b[38;5;167;01mKeyError\u001b[39;00m(key) \u001b[38;5;28;01mfrom\u001b[39;00m\u001b[38;5;250m \u001b[39m\u001b[34;01merr\u001b[39;00m\n\u001b[32m   3813\u001b[39m \u001b[38;5;28;01mexcept\u001b[39;00m \u001b[38;5;167;01mTypeError\u001b[39;00m:\n\u001b[32m   3814\u001b[39m     \u001b[38;5;66;03m# If we have a listlike key, _check_indexing_error will raise\u001b[39;00m\n\u001b[32m   3815\u001b[39m     \u001b[38;5;66;03m#  InvalidIndexError. Otherwise we fall through and re-raise\u001b[39;00m\n\u001b[32m   3816\u001b[39m     \u001b[38;5;66;03m#  the TypeError.\u001b[39;00m\n\u001b[32m   3817\u001b[39m     \u001b[38;5;28mself\u001b[39m._check_indexing_error(key)\n",
      "\u001b[31mKeyError\u001b[39m: 'n_counts_mt'"
     ]
    }
   ],
   "source": [
    "# Start with the raw data we extracted\n",
    "import numpy as np\n",
    "import matplotlib.pyplot as plt\n",
    "import seaborn as sns\n",
    "\n",
    "# 🔬 1. PREPROCESSING & QUALITY CONTROL (QC)\n",
    "print(\"=== STEP 1: PREPROCESSING & QC ===\")\n",
    "\n",
    "# A. Data already loaded (raw_adata from previous extraction)\n",
    "print(f\"Starting with {raw_adata.n_obs} cells and {raw_adata.n_vars} genes\")\n",
    "\n",
    "# B. Initial QC Metrics\n",
    "print(\"\\n--- Calculating QC Metrics ---\")\n",
    "\n",
    "# Gene annotations\n",
    "raw_adata.var['mt'] = raw_adata.var_names.str.startswith('MT-')\n",
    "raw_adata.var['ribo'] = raw_adata.var_names.str.startswith(('RPS', 'RPL'))\n",
    "raw_adata.var['hb'] = raw_adata.var_names.str.contains('^HB[^(P)]')  # Hemoglobin genes\n",
    "\n",
    "# Calculate comprehensive QC metrics\n",
    "sc.pp.calculate_qc_metrics(raw_adata, percent_top=None, log1p=False, inplace=True)\n",
    "\n",
    "# Add percentage metrics\n",
    "raw_adata.obs['pct_counts_mt'] = (raw_adata.obs['n_counts_mt'] / raw_adata.obs['total_counts']) * 100\n",
    "raw_adata.obs['pct_counts_ribo'] = (raw_adata.obs['n_counts_ribo'] / raw_adata.obs['total_counts']) * 100\n",
    "\n",
    "# Print QC summary\n",
    "print(f\"Cells: {raw_adata.n_obs}\")\n",
    "print(f\"Genes: {raw_adata.n_vars}\")\n",
    "print(f\"MT genes: {raw_adata.var['mt'].sum()}\")\n",
    "print(f\"Ribosomal genes: {raw_adata.var['ribo'].sum()}\")\n",
    "print(f\"Median genes/cell: {raw_adata.obs['n_genes_by_counts'].median():.0f}\")\n",
    "print(f\"Median UMI/cell: {raw_adata.obs['total_counts'].median():.0f}\")\n",
    "print(f\"Median MT%: {raw_adata.obs['pct_counts_mt'].median():.2f}%\")"
   ]
  },
  {
   "cell_type": "code",
   "execution_count": 15,
   "id": "5c67e311",
   "metadata": {},
   "outputs": [
    {
     "data": {
      "text/plain": [
       "AnnData object with n_obs × n_vars = 98848 × 31393\n",
       "    obs: 'nCount_RNA', 'nFeature_RNA', 'nCount_SCT', 'nFeature_SCT', 'orig.ident', 'scds.hybrid_score', 'scds.keep', 'percent.mt', 'miQC.probability', 'miQC.keep', 'dropletQC.nucFrac', 'dropletQC.keep', 'integrated_snn_res.1', 'seurat_clusters', 'X', 'ID', 'Region', 'Pair', 'Case', 'Sex', 'Race', 'Age', 'BMI', 'PMI', 'pH', 'RIN', 'Tissue.Storage.Time.mo.b', 'Dx_OUD', 'Dx_Substances', 'Dx_Comorbid', 'Dur.OUD', 'DSM.IV.SUD', 'DSM.IV.Psych', 'Blood.Toxicology', 'Infxn.Dx', 'Medications.ATODc', 'Tobacco.ATOD', 'Manner.of.Death', 'Cause.of.Death', 'Index.27', 'Index.28', 'i7.index.seq', 'i5.index.seq', 'DSM.IV.OUD', 'DSM.IV.AUD', 'DSM.IV.CUD', 'integrated_snn_res.0.5', 'celltype1', 'celltype2', 'integrated_snn_res.2', 'celltype3', 'integrated_snn_res.0.1', 'level1', 'level2', 'n_genes'\n",
       "    var: 'features', 'n_cells', 'highly_variable', 'means', 'dispersions', 'dispersions_norm'\n",
       "    uns: 'hvg', 'log1p'\n",
       "    obsm: 'X_umap'"
      ]
     },
     "execution_count": 15,
     "metadata": {},
     "output_type": "execute_result"
    }
   ],
   "source": [
    "adata"
   ]
  },
  {
   "cell_type": "code",
   "execution_count": null,
   "id": "0885eb71",
   "metadata": {},
   "outputs": [],
   "source": []
  }
 ],
 "metadata": {
  "kernelspec": {
   "display_name": "base",
   "language": "python",
   "name": "python3"
  },
  "language_info": {
   "codemirror_mode": {
    "name": "ipython",
    "version": 3
   },
   "file_extension": ".py",
   "mimetype": "text/x-python",
   "name": "python",
   "nbconvert_exporter": "python",
   "pygments_lexer": "ipython3",
   "version": "3.13.2"
  }
 },
 "nbformat": 4,
 "nbformat_minor": 5
}
