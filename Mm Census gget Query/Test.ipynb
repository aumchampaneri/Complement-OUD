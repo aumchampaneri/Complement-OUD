{
 "cells": [
  {
   "cell_type": "code",
   "id": "initial_id",
   "metadata": {
    "collapsed": true,
    "ExecuteTime": {
     "end_time": "2025-05-21T18:51:24.500970Z",
     "start_time": "2025-05-21T18:50:56.760986Z"
    }
   },
   "source": [
    "# Prepare the environment\n",
    "import gget\n",
    "import pandas as pd\n",
    "import numpy as np\n",
    "import matplotlib.pyplot as plt\n",
    "import seaborn as sns\n",
    "import scanpy as sc\n",
    "from numpy.lib.npyio import savez\n",
    "\n",
    "gget.setup(\"cellxgene\")\n",
    "\n",
    "# Uncomment the following line to see the documentation\n",
    "help(gget.cellxgene)\n",
    "\n",
    "'''\n",
    "Query the cellxgene database for the genes of interest\n",
    "Filters:\n",
    "disease: normal\n",
    "tissue_general: brain\n",
    "\n",
    "> Query Time: 3m 30s\n",
    "'''\n",
    "\n",
    "adata = gget.cellxgene(\n",
    "    ensembl=True,\n",
    "    verbose=True,\n",
    "    meta_only=True,\n",
    "    species='mus_musculus',\n",
    "    sex=['male', 'female'],\n",
    "    disease='normal',\n",
    "    tissue_general='brain',\n",
    "\n",
    ")"
   ],
   "outputs": [
    {
     "name": "stderr",
     "output_type": "stream",
     "text": [
      "14:50:56 - INFO - Installing cellxgene-census package (requires pip).\n",
      "14:50:58 - INFO - cellxgene_census installed succesfully.\n",
      "14:50:58 - INFO - Fetching metadata from CZ CELLxGENE Discover...\n"
     ]
    },
    {
     "name": "stdout",
     "output_type": "stream",
     "text": [
      "Help on function cellxgene in module gget.gget_cellxgene:\n",
      "\n",
      "cellxgene(species='homo_sapiens', gene=None, ensembl=False, column_names=['dataset_id', 'assay', 'suspension_type', 'sex', 'tissue_general', 'tissue', 'cell_type'], meta_only=False, tissue=None, cell_type=None, development_stage=None, disease=None, sex=None, is_primary_data=True, dataset_id=None, tissue_general_ontology_term_id=None, tissue_general=None, assay_ontology_term_id=None, assay=None, cell_type_ontology_term_id=None, development_stage_ontology_term_id=None, disease_ontology_term_id=None, donor_id=None, self_reported_ethnicity_ontology_term_id=None, self_reported_ethnicity=None, sex_ontology_term_id=None, suspension_type=None, tissue_ontology_term_id=None, census_version='stable', verbose=True, out=None)\n",
      "    Query data from CZ CELLxGENE Discover (https://cellxgene.cziscience.com/) using the\n",
      "    CZ CELLxGENE Discover Census (https://github.com/chanzuckerberg/cellxgene-census).\n",
      "\n",
      "    NOTE: Querying large datasets requires a large amount of RAM. Use the cell metadata attributes\n",
      "    to define the (sub)dataset of interest.\n",
      "    The CZ CELLxGENE Discover Census recommends >16 GB of memory and a >5 Mbps internet connection.\n",
      "\n",
      "    General args:\n",
      "        - species        Choice of 'homo_sapiens' or 'mus_musculus'. Default: 'homo_sapiens'.\n",
      "        - gene           Str or list of gene name(s) or Ensembl ID(s), e.g. ['ACE2', 'SLC5A1'] or ['ENSG00000130234', 'ENSG00000100170']. Default: None.\n",
      "                         NOTE: Set ensembl=True when providing Ensembl ID(s) instead of gene name(s).\n",
      "                         See https://cellxgene.cziscience.com/gene-expression for examples of available genes.\n",
      "        - ensembl        True/False (default: False). Set to True when genes are provided as Ensembl IDs.\n",
      "        - column_names   List of metadata columns to return (stored in AnnData.obs when meta_only=False).\n",
      "                         Default: [\"dataset_id\", \"assay\", \"suspension_type\", \"sex\", \"tissue_general\", \"tissue\", \"cell_type\"]\n",
      "                         For more options see: https://api.cellxgene.cziscience.com/curation/ui/#/ -> Schemas -> dataset\n",
      "        - meta_only      True/False (default: False). If True, returns only metadata dataframe (corresponds to AnnData.obs).\n",
      "        - census_version Str defining version of Census, e.g. \"2023-05-15\" or \"latest\" or \"stable\". Default: \"stable\".\n",
      "        - verbose        True/False whether to print progress information. Default True.\n",
      "        - out            If provided, saves the generated AnnData h5ad (or csv when meta_only=True) file with the specified path. Default: None.\n",
      "\n",
      "    Cell metadata attributes:\n",
      "        - tissue                          Str or list of tissue(s), e.g. ['lung', 'blood']. Default: None.\n",
      "                                          See https://cellxgene.cziscience.com/gene-expression for examples of available tissues.\n",
      "        - cell_type                       Str or list of celltype(s), e.g. ['mucus secreting cell', 'neuroendocrine cell']. Default: None.\n",
      "                                          See https://cellxgene.cziscience.com/gene-expression and select a tissue to see examples of available celltypes.\n",
      "        - development_stage               Str or list of development stage(s). Default: None.\n",
      "        - disease                         Str or list of disease(s). Default: None.\n",
      "        - sex                             Str or list of sex(es), e.g. 'female'. Default: None.\n",
      "        - is_primary_data                 True/False (default: True). If True, returns only the canonical instance of the cellular observation.\n",
      "                                          This is commonly set to False for meta-analyses reusing data or for secondary views of data.\n",
      "        - dataset_id                      Str or list of CELLxGENE dataset ID(s). Default: None.\n",
      "        - tissue_general_ontology_term_id Str or list of high-level tissue UBERON ID(s). Default: None.\n",
      "                                          Also see: https://github.com/chanzuckerberg/single-cell-data-portal/blob/9b94ccb0a2e0a8f6182b213aa4852c491f6f6aff/backend/wmg/data/tissue_mapper.py\n",
      "        - tissue_general                  Str or list of high-level tissue label(s). Default: None.\n",
      "                                          Also see: https://github.com/chanzuckerberg/single-cell-data-portal/blob/9b94ccb0a2e0a8f6182b213aa4852c491f6f6aff/backend/wmg/data/tissue_mapper.py\n",
      "        - tissue_ontology_term_id         Str or list of tissue ontology term ID(s) as defined in the CELLxGENE dataset schema. Default: None.\n",
      "        - assay_ontology_term_id          Str or list of assay ontology term ID(s) as defined in the CELLxGENE dataset schema. Default: None.\n",
      "        - assay                           Str or list of assay(s) as defined in the CELLxGENE dataset schema. Default: None.\n",
      "        - cell_type_ontology_term_id      Str or list of celltype ontology term ID(s) as defined in the CELLxGENE dataset schema. Default: None.\n",
      "        - development_stage_ontology_term_id        Str or list of development stage ontology term ID(s) as defined in the CELLxGENE dataset schema. Default: None.\n",
      "        - disease_ontology_term_id        Str or list of disease ontology term ID(s) as defined in the CELLxGENE dataset schema. Default: None.\n",
      "        - donor_id                        Str or list of donor ID(s) as defined in the CELLxGENE dataset schema. Default: None.\n",
      "        - self_reported_ethnicity_ontology_term_id  Str or list of self reported ethnicity ontology ID(s) as defined in the CELLxGENE dataset schema. Default: None.\n",
      "        - self_reported_ethnicity         Str or list of self reported ethnicity as defined in the CELLxGENE dataset schema. Default: None.\n",
      "        - sex_ontology_term_id            Str or list of sex ontology ID(s) as defined in the CELLxGENE dataset schema. Default: None.\n",
      "        - suspension_type                 Str or list of suspension type(s) as defined in the CELLxGENE dataset schema. Default: None.\n",
      "\n",
      "    Returns AnnData object (when meta_only=False) or dataframe (when meta_only=True).\n",
      "\n"
     ]
    },
    {
     "name": "stderr",
     "output_type": "stream",
     "text": [
      "The \"stable\" release is currently 2025-01-30. Specify 'census_version=\"2025-01-30\"' in future calls to open_soma() to ensure data consistency.\n"
     ]
    }
   ],
   "execution_count": 19
  },
  {
   "metadata": {
    "ExecuteTime": {
     "end_time": "2025-05-21T18:56:49.766160Z",
     "start_time": "2025-05-21T18:52:47.327708Z"
    }
   },
   "cell_type": "code",
   "source": "adata",
   "id": "8ee02fa60ece1076",
   "outputs": [],
   "execution_count": 20
  },
  {
   "metadata": {
    "jupyter": {
     "is_executing": true
    }
   },
   "cell_type": "code",
   "source": [
    "# Print all unique values in the column 'assay' with non-zero counts\n",
    "counts = adata['assay'].value_counts()\n",
    "print(counts[counts > 0])"
   ],
   "id": "90f186adc2aca2c3",
   "outputs": [],
   "execution_count": null
  },
  {
   "metadata": {
    "ExecuteTime": {
     "end_time": "2025-05-21T18:38:43.106293Z",
     "start_time": "2025-05-21T18:38:43.071042Z"
    }
   },
   "cell_type": "code",
   "source": [
    "# Print all unique values in the column 'tissue' with non-zero counts\n",
    "tissue_counts = adata['tissue'].value_counts()\n",
    "print(tissue_counts[tissue_counts > 0])"
   ],
   "id": "449c7df02d92a8a6",
   "outputs": [
    {
     "name": "stdout",
     "output_type": "stream",
     "text": [
      "tissue\n",
      "cerebellum                              723345\n",
      "primary motor cortex                    530134\n",
      "hypothalamus                            384925\n",
      "cerebral cortex                         352271\n",
      "diencephalon                            249071\n",
      "visual cortex                           236082\n",
      "brain                                   113008\n",
      "hippocampal formation                    89099\n",
      "primary somatosensory cortex             86715\n",
      "auditory cortex                          72549\n",
      "medial orbital frontal cortex            72454\n",
      "retrosplenial granular cortex            65710\n",
      "anterior cingulate cortex                63318\n",
      "entorhinal cortex                        62216\n",
      "temporal cortex                          61332\n",
      "subicular complex                        54666\n",
      "agranular insular cortex                 53956\n",
      "primary visual cortex                    47108\n",
      "parietal cortex                          47094\n",
      "frontal lobe                             34331\n",
      "posterior parietal association areas     28873\n",
      "lateral visual area                      18814\n",
      "brain white matter                       14982\n",
      "barrel cortex                            12330\n",
      "frontal cortex                            9668\n",
      "brain gray matter                         6670\n",
      "cerebellar hemisphere                     2971\n",
      "brain meninx                              2344\n",
      "retrosplenial region                      2055\n",
      "secondary somatosensory cortex            1866\n",
      "lateral entorhinal cortex                 1594\n",
      "medial entorhinal cortex                  1564\n",
      "gustatory cortex                          1482\n",
      "prefrontal cortex                         1472\n",
      "claustrum of brain                           1\n",
      "Name: count, dtype: int64\n"
     ]
    }
   ],
   "execution_count": 13
  },
  {
   "metadata": {
    "ExecuteTime": {
     "end_time": "2025-05-21T18:40:30.324666Z",
     "start_time": "2025-05-21T18:40:30.291604Z"
    }
   },
   "cell_type": "code",
   "source": [
    "# Ensure all rows are displayed without truncation\n",
    "pd.set_option('display.max_rows', None)\n",
    "\n",
    "# Print all unique values in the column 'cell_type' with non-zero counts\n",
    "counts = adata['cell_type'].value_counts()\n",
    "print(counts[counts > 0])"
   ],
   "id": "13b11405bec45036",
   "outputs": [
    {
     "name": "stdout",
     "output_type": "stream",
     "text": [
      "cell_type\n",
      "cerebellar granule cell                                                                501037\n",
      "glutamatergic neuron                                                                   397512\n",
      "L4/5 intratelencephalic projecting glutamatergic neuron of the primary motor cortex    347109\n",
      "neuron                                                                                 254734\n",
      "L2/3-6 intratelencephalic projecting glutamatergic neuron                              198449\n",
      "L6 corticothalamic-projecting glutamatergic cortical neuron                            176719\n",
      "oligodendrocyte                                                                        142462\n",
      "GABAergic neuron                                                                       136771\n",
      "astrocyte                                                                              117001\n",
      "L6 intratelencephalic projecting glutamatergic neuron of the primary motor cortex       83902\n",
      "oligodendrocyte precursor cell                                                          82988\n",
      "microglial cell                                                                         72254\n",
      "hippocampal neuron                                                                      63766\n",
      "sst GABAergic cortical interneuron                                                      61058\n",
      "L2/3 intratelencephalic projecting glutamatergic neuron                                 55831\n",
      "VIP GABAergic cortical interneuron                                                      55571\n",
      "lamp5 GABAergic cortical interneuron                                                    52830\n",
      "pvalb GABAergic cortical interneuron                                                    47109\n",
      "L4/5 intratelencephalic projecting glutamatergic neuron                                 43558\n",
      "L5 extratelencephalic projecting glutamatergic cortical neuron                          40816\n",
      "inhibitory interneuron                                                                  38715\n",
      "L5/6 near-projecting glutamatergic neuron of the primary motor cortex                   38609\n",
      "L6b glutamatergic cortical neuron                                                       37962\n",
      "Purkinje cell                                                                           34905\n",
      "endothelial cell                                                                        32902\n",
      "glioblast                                                                               32231\n",
      "L5 intratelencephalic projecting glutamatergic neuron                                   32230\n",
      "macroglial cell                                                                         25784\n",
      "corticothalamic-projecting glutamatergic cortical neuron                                23644\n",
      "pyramidal neuron                                                                        22450\n",
      "interneuron                                                                             18577\n",
      "Bergmann glial cell                                                                     17733\n",
      "astrocyte of the cerebellum                                                             16717\n",
      "sncg GABAergic cortical interneuron                                                     16629\n",
      "neural progenitor cell                                                                  16277\n",
      "neuroblast (sensu Vertebrata)                                                           14320\n",
      "L2/3 intratelencephalic projecting glutamatergic neuron of the primary motor cortex     13955\n",
      "macrophage                                                                              12184\n",
      "medium spiny neuron                                                                      9950\n",
      "tanycyte                                                                                 9737\n",
      "L5/6 near-projecting glutamatergic neuron                                                9728\n",
      "unknown                                                                                  9253\n",
      "vascular leptomeningeal cell                                                             8175\n",
      "L6 intratelencephalic projecting glutamatergic neuron                                    7873\n",
      "ependymal cell                                                                           7286\n",
      "cerebellar granule cell precursor                                                        6802\n",
      "fibroblast                                                                               6705\n",
      "endothelial stalk cell                                                                   6142\n",
      "cortical interneuron                                                                     5927\n",
      "blood vessel endothelial cell                                                            4651\n",
      "pericyte                                                                                 4398\n",
      "cerebellar Golgi cell                                                                    3989\n",
      "mural cell                                                                               3776\n",
      "erythrocyte                                                                              3438\n",
      "leptomeningeal cell                                                                      2404\n",
      "hypendymal cell                                                                          2389\n",
      "sst chodl GABAergic cortical interneuron                                                 2226\n",
      "CD8-positive, alpha-beta T cell                                                          1885\n",
      "central nervous system macrophage                                                        1211\n",
      "unipolar brush cell                                                                      1208\n",
      "CD4-positive, alpha-beta T cell                                                          1164\n",
      "B cell                                                                                   1077\n",
      "perivascular macrophage                                                                   830\n",
      "immature astrocyte                                                                        810\n",
      "pituitary gland cell                                                                      729\n",
      "meningeal macrophage                                                                      583\n",
      "brain pericyte                                                                            484\n",
      "natural killer cell                                                                       440\n",
      "monocyte                                                                                  412\n",
      "innate lymphoid cell                                                                      371\n",
      "cell                                                                                      339\n",
      "Cajal-Retzius cell                                                                        315\n",
      "vascular leptomeningeal cell (Mmus)                                                       268\n",
      "stromal cell                                                                              261\n",
      "neutrophil                                                                                240\n",
      "conventional dendritic cell                                                               215\n",
      "T cell                                                                                    174\n",
      "brain vascular cell                                                                       166\n",
      "neuroepithelial stem cell                                                                 151\n",
      "meis2 expressing cortical GABAergic cell                                                  150\n",
      "neural stem cell                                                                           97\n",
      "noradrenergic cell                                                                         91\n",
      "erythroid lineage cell                                                                     71\n",
      "plasmacytoid dendritic cell                                                                61\n",
      "smooth muscle cell                                                                         49\n",
      "motor neuron                                                                               35\n",
      "mature NK T cell                                                                           17\n",
      "plasma cell                                                                                15\n",
      "mast cell                                                                                   1\n",
      "Name: count, dtype: int64\n"
     ]
    }
   ],
   "execution_count": 16
  },
  {
   "metadata": {},
   "cell_type": "code",
   "outputs": [],
   "execution_count": null,
   "source": "",
   "id": "de0b6252f8ebf512"
  }
 ],
 "metadata": {
  "kernelspec": {
   "display_name": "Python 3",
   "language": "python",
   "name": "python3"
  },
  "language_info": {
   "codemirror_mode": {
    "name": "ipython",
    "version": 2
   },
   "file_extension": ".py",
   "mimetype": "text/x-python",
   "name": "python",
   "nbconvert_exporter": "python",
   "pygments_lexer": "ipython2",
   "version": "2.7.6"
  }
 },
 "nbformat": 4,
 "nbformat_minor": 5
}
